{
 "cells": [
  {
   "cell_type": "markdown",
   "id": "505858a3-d259-4a0b-9e51-c497256e5933",
   "metadata": {},
   "source": [
    "1] Write a program to print calander"
   ]
  },
  {
   "cell_type": "code",
   "execution_count": 2,
   "id": "7d814bad-76b7-4281-b317-a7aa3c1b3809",
   "metadata": {},
   "outputs": [
    {
     "name": "stdin",
     "output_type": "stream",
     "text": [
      "Enter Year:  2003\n",
      "Enter Month:  10\n"
     ]
    },
    {
     "name": "stdout",
     "output_type": "stream",
     "text": [
      "    October 2003\n",
      "Mo Tu We Th Fr Sa Su\n",
      "       1  2  3  4  5\n",
      " 6  7  8  9 10 11 12\n",
      "13 14 15 16 17 18 19\n",
      "20 21 22 23 24 25 26\n",
      "27 28 29 30 31\n",
      "\n"
     ]
    }
   ],
   "source": [
    "import calendar\n",
    "year = int(input(\"Enter Year: \"))\n",
    "month = int(input(\"Enter Month: \"))\n",
    "cal = calendar.month(year, month)\n",
    "print(cal)"
   ]
  },
  {
   "cell_type": "markdown",
   "id": "2140a3b7-1802-45b5-b5b5-a1cda0f6d35e",
   "metadata": {},
   "source": [
    "2] Write a python program to swap two variable without temp variable"
   ]
  },
  {
   "cell_type": "code",
   "execution_count": 3,
   "id": "198c0f46-1bac-4fce-a8ed-14bc00ef6dda",
   "metadata": {},
   "outputs": [
    {
     "name": "stdout",
     "output_type": "stream",
     "text": [
      "After Swapping: \n",
      "a =  6\n",
      "b =  5\n"
     ]
    }
   ],
   "source": [
    "a = 5\n",
    "b = 6\n",
    "#Swapping without a tempopary variable\n",
    "a,b = b,a\n",
    "print(\"After Swapping: \")\n",
    "print(\"a = \", a)\n",
    "print(\"b = \", b)"
   ]
  },
  {
   "cell_type": "markdown",
   "id": "e2a23261-7282-4345-b4f4-026a7197b041",
   "metadata": {},
   "source": [
    "3] wrte a python program to check if a Number is positive, Negative or zero"
   ]
  },
  {
   "cell_type": "code",
   "execution_count": 4,
   "id": "c99fc84c-c533-48b7-96bc-4b7c9ffcd8ab",
   "metadata": {},
   "outputs": [
    {
     "name": "stdin",
     "output_type": "stream",
     "text": [
      "Enter a number:  -1.34\n"
     ]
    },
    {
     "name": "stdout",
     "output_type": "stream",
     "text": [
      "Negative Number\n"
     ]
    }
   ],
   "source": [
    "num = float(input(\"Enter a number: \"))\n",
    "if num > 0:\n",
    "    print(\"Poitive Number\")\n",
    "elif num == 0:\n",
    "    print(\"Zero\")\n",
    "else:\n",
    "    print(\"Negative Number\")"
   ]
  },
  {
   "cell_type": "markdown",
   "id": "e890d235-ab02-4c3b-9057-531f3a75e3cd",
   "metadata": {},
   "source": [
    "4] write  python code to check if a Number is even or odd"
   ]
  },
  {
   "cell_type": "code",
   "execution_count": 5,
   "id": "f4a7656b-7a13-44d7-8c48-067612cd5b64",
   "metadata": {},
   "outputs": [
    {
     "name": "stdin",
     "output_type": "stream",
     "text": [
      "Enter a number:  21\n"
     ]
    },
    {
     "name": "stdout",
     "output_type": "stream",
     "text": [
      "Number is odd\n"
     ]
    }
   ],
   "source": [
    "num = int(input(\"Enter a number: \"))\n",
    "if num % 2==0:\n",
    "    print(\"Number is even\")\n",
    "else:\n",
    "    print(\"Number is odd\")"
   ]
  },
  {
   "cell_type": "markdown",
   "id": "5b5b189f-6888-4238-9b18-8cba65c8d77e",
   "metadata": {},
   "source": [
    "5] write a python program to check Leap year"
   ]
  },
  {
   "cell_type": "code",
   "execution_count": 8,
   "id": "6b7aa722-7631-42a3-8978-d35ae1b622b6",
   "metadata": {},
   "outputs": [
    {
     "name": "stdin",
     "output_type": "stream",
     "text": [
      "Enter a year:  2024\n"
     ]
    },
    {
     "name": "stdout",
     "output_type": "stream",
     "text": [
      "2024 is a leap year\n"
     ]
    }
   ],
   "source": [
    "year = int(input(\"Enter a year: \"))\n",
    "#divide by 100 means century year(ending with 00)\n",
    "#century year divide by 400 is leap year\n",
    "if(year % 400 ==0) and (year % 100 == 0):\n",
    "    print(\"{0} is a leap year\". format(year))\n",
    "#not divide by 100 means not a century year \n",
    "#year divided by 4 is a Leap year\n",
    "elif(year % 4 == 0) and (year % 100 != 0):\n",
    "    print(\"{0} is a leap year\".format(year))\n",
    "#if not divided by both 400 (century year) and 4 (not century year)\n",
    "else:\n",
    "    print(\"{0} is not a leap year\".format(year))"
   ]
  },
  {
   "cell_type": "markdown",
   "id": "5e1cdebb-45d0-4983-87fd-8a4c603684a8",
   "metadata": {},
   "source": [
    "6]Prime Number"
   ]
  },
  {
   "cell_type": "code",
   "execution_count": 10,
   "id": "77106b1c-4c51-4670-8fe6-84ef6e1a78a6",
   "metadata": {},
   "outputs": [
    {
     "name": "stdin",
     "output_type": "stream",
     "text": [
      "Enter a number:  32\n"
     ]
    },
    {
     "name": "stdout",
     "output_type": "stream",
     "text": [
      "32, is not a prime number\n"
     ]
    }
   ],
   "source": [
    "num = int(input(\"Enter a number: \"))\n",
    "#define a flag variable\n",
    "flag = False\n",
    "if num == 1:\n",
    "    print(num,\"is not a prime number\")\n",
    "elif num > 1:\n",
    "    #check for factors\n",
    "    for i in range(2, num):\n",
    "        if(num % i) == 0:\n",
    "            flag = True  # if factor is found, set flage to True\n",
    "            #break out of the loop\n",
    "            break\n",
    "\n",
    "    #check if flag is True\n",
    "if flag:\n",
    "    print(f\"{num}, is not a prime number\")\n",
    "else:\n",
    "    print(f\"{num}, is a prime number\")"
   ]
  },
  {
   "cell_type": "code",
   "execution_count": null,
   "id": "9b04b6ed-2f14-4ac3-818e-916a0b18a32d",
   "metadata": {},
   "outputs": [],
   "source": []
  }
 ],
 "metadata": {
  "kernelspec": {
   "display_name": "Python 3 (ipykernel)",
   "language": "python",
   "name": "python3"
  },
  "language_info": {
   "codemirror_mode": {
    "name": "ipython",
    "version": 3
   },
   "file_extension": ".py",
   "mimetype": "text/x-python",
   "name": "python",
   "nbconvert_exporter": "python",
   "pygments_lexer": "ipython3",
   "version": "3.13.5"
  }
 },
 "nbformat": 4,
 "nbformat_minor": 5
}
